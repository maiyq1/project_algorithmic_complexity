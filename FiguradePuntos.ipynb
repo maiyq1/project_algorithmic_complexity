{
  "nbformat": 4,
  "nbformat_minor": 0,
  "metadata": {
    "colab": {
      "provenance": [],
      "toc_visible": true,
      "authorship_tag": "ABX9TyMeWzbL3DOeWNjYbBDMJtf9",
      "include_colab_link": true
    },
    "kernelspec": {
      "name": "python3",
      "display_name": "Python 3"
    },
    "language_info": {
      "name": "python"
    }
  },
  "cells": [
    {
      "cell_type": "markdown",
      "metadata": {
        "id": "view-in-github",
        "colab_type": "text"
      },
      "source": [
        "<a href=\"https://colab.research.google.com/github/maiyq1/project_algorithmic_complexity/blob/main/FiguradePuntos.ipynb\" target=\"_parent\"><img src=\"https://colab.research.google.com/assets/colab-badge.svg\" alt=\"Open In Colab\"/></a>"
      ]
    },
    {
      "cell_type": "code",
      "execution_count": 1,
      "metadata": {
        "id": "8abQai7rLrjl"
      },
      "outputs": [],
      "source": [
        "import random\n",
        "import csv\n",
        "def setEmptyGraph(size):\n",
        "  n = size*size\n",
        "  G = [ [] for _ in range(n) ]\n",
        "  for x in range(size):\n",
        "    for y in range(size):\n",
        "      if(size > x + 1):\n",
        "        G[ ((x * size) + y) ].append(((x+1) * size) + y)\n",
        "      if(0 <= x - 1):\n",
        "        G[ ((x * size) + y) ].append(((x-1) * size) + y)\n",
        "      if(size > y + 1):\n",
        "        G[ ((x * size) + y) ].append((x * size) + (y+1))\n",
        "      if(0 <= y - 1):\n",
        "        G[ ((x * size) + y) ].append((x * size) + (y-1))\n",
        "  return G\n",
        "\n",
        "def setKnownPoints(size, almacen, entrega):\n",
        "  id = [\"empty\"]*(size*size)\n",
        "  for a in almacen:\n",
        "    x, y = a[0], a[1]\n",
        "    pos = x*size + y\n",
        "    id[pos] = \"A\"\n",
        "  for a in entrega:\n",
        "    x, y = a[0], a[1]\n",
        "    pos = x*size + y\n",
        "    id[pos] = \"E\"\n",
        "  return id\n",
        "G = setEmptyGraph(1000)\n",
        "\n",
        "graphFile = open('adjancencyList.txt', 'w', newline='')\n",
        "with graphFile:\n",
        "  writer = csv.writer(graphFile)\n",
        "  writer.writerows(G)"
      ]
    }
  ]
}