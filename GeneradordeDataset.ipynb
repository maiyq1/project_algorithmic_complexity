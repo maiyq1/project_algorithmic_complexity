{
  "nbformat": 4,
  "nbformat_minor": 0,
  "metadata": {
    "colab": {
      "provenance": [],
      "authorship_tag": "ABX9TyMPe145/bKWsFAnT51T5tQc",
      "include_colab_link": true
    },
    "kernelspec": {
      "name": "python3",
      "display_name": "Python 3"
    },
    "language_info": {
      "name": "python"
    }
  },
  "cells": [
    {
      "cell_type": "markdown",
      "metadata": {
        "id": "view-in-github",
        "colab_type": "text"
      },
      "source": [
        "<a href=\"https://colab.research.google.com/github/maiyq1/project_algorithmic_complexity/blob/main/GeneradordeDataset.ipynb\" target=\"_parent\"><img src=\"https://colab.research.google.com/assets/colab-badge.svg\" alt=\"Open In Colab\"/></a>"
      ]
    },
    {
      "cell_type": "code",
      "execution_count": 1,
      "metadata": {
        "id": "m19HggeuM0GI"
      },
      "outputs": [],
      "source": [
        "import random\n",
        "import numpy as np\n",
        "import csv"
      ]
    },
    {
      "cell_type": "code",
      "source": [
        "qOri = random.randint(50,100)\n",
        "qDes = random.randint(2500,5000)\n",
        "\n",
        "origen, destino = [], []\n",
        "\n",
        "origenx = np.random.randint(1,1000, size=qOri)\n",
        "origeny = np.random.randint(1,1000, size=qOri)\n",
        "\n",
        "destinox = np.random.randint(1,1000, size=qDes)\n",
        "destinoy = np.random.randint(1,1000, size=qDes)\n",
        "\n",
        "for i in range(qOri):\n",
        "  origen.append( [origenx[i], origeny[i]] )\n",
        "for i in range(qDes):\n",
        "  destino.append( [destinox[i], destinoy[i]] )\n",
        "\n",
        "print(\"Cantidad de puntos de origen: \", qOri)\n",
        "#print(origen)\n",
        "print(\"Cantidad de puntos de destino: \", qDes)\n",
        "#print(destino)"
      ],
      "metadata": {
        "colab": {
          "base_uri": "https://localhost:8080/"
        },
        "id": "mVx-BrcnM6GY",
        "outputId": "7cdf8034-472e-4042-b852-f05df29f6848"
      },
      "execution_count": 2,
      "outputs": [
        {
          "output_type": "stream",
          "name": "stdout",
          "text": [
            "Cantidad de puntos de origen:  63\n",
            "Cantidad de puntos de destino:  4032\n"
          ]
        }
      ]
    },
    {
      "cell_type": "code",
      "source": [
        "origenFile = open('puntos_origen.csv', 'w', newline='')\n",
        "with origenFile:\n",
        "  writer = csv.writer(origenFile)\n",
        "  writer.writerows(origen)\n",
        "\n",
        "destinoFile = open('puntos_destino.csv', 'w', newline='')\n",
        "with destinoFile:\n",
        "  writer = csv.writer(destinoFile)\n",
        "  writer.writerows(destino)"
      ],
      "metadata": {
        "id": "DlBbXwgHM7q0"
      },
      "execution_count": 3,
      "outputs": []
    }
  ]
}